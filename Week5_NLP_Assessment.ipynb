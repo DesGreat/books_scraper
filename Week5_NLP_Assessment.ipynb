Title,Price,Rating,Titles,clean_titles,sentiment,sentiment_label,entities
Frankenstein,Â£38.00,Two,Frankenstein,frankenstein,0.0,Neutral,[]
Forever Rockers (The Rocker #12),Â£28.80,Three,Forever Rockers (The Rocker #12),forever rocker rocker,0.0,Neutral,[]
Fighting Fate (Fighting #6),Â£39.24,Three,Fighting Fate (Fighting #6),fight fate fight,-0.3612,Negative,"[('6', 'MONEY')]"
Emma,Â£32.93,Two,Emma,emma,0.0,Neutral,"[('Emma', 'ORG')]"
"Eat, Pray, Love",Â£51.32,Three,"Eat, Pray, Love",eat pray love,0.7579,Positive,"[('Love', 'WORK_OF_ART')]"
Deep Under (Walker Security #1),Â£47.09,Five,Deep Under (Walker Security #1),deep walker security,0.34,Positive,"[('1', 'MONEY')]"
Choosing Our Religion: The Spiritual Lives of America's Nones,Â£28.42,Four,Choosing Our Religion: The Spiritual Lives of America's Nones,choose religion spiritual life america none,0.0,Neutral,[]
Charlie and the Chocolate Factory (Charlie Bucket #1),Â£22.85,Three,Charlie and the Chocolate Factory (Charlie Bucket #1),charlie chocolate factory charlie bucket,0.0,Neutral,"[('Charlie', 'PERSON'), ('Charlie Bucket', 'PERSON'), ('1', 'MONEY')]"
Charity's Cross (Charles Towne Belles #4),Â£41.24,One,Charity's Cross (Charles Towne Belles #4),charitys cross charle towne belle,0.0,Neutral,"[(""Charity's Cross"", 'ORG'), ('Charles Towne Belles', 'PERSON'), ('4', 'MONEY')]"
Bright Lines,Â£39.07,Five,Bright Lines,bright line,0.4404,Positive,[]
Bridget Jones's Diary (Bridget Jones #1),Â£29.82,One,Bridget Jones's Diary (Bridget Jones #1),bridget joness diary bridget jones,0.0,Neutral,"[(""Bridget Jones's"", 'ORG'), ('Diary (Bridget Jones', 'WORK_OF_ART'), ('1', 'MONEY')]"
Bounty (Colorado Mountain #7),Â£37.26,Four,Bounty (Colorado Mountain #7),bounty colorado mountain,0.0,Neutral,"[('Bounty', 'GPE'), ('Colorado Mountain', 'ORG')]"
Blood Defense (Samantha Brinkman #1),Â£20.30,Three,Blood Defense (Samantha Brinkman #1),blood defense samantha brinkman,0.128,Positive,"[('1', 'MONEY')]"
"Bleach, Vol. 1: Strawberry and the Soul Reapers (Bleach #1)",Â£34.65,Five,"Bleach, Vol. 1: Strawberry and the Soul Reapers (Bleach #1)",bleach vol strawberry soul reapers bleach,0.0,Neutral,"[('Vol', 'PERSON'), ('1', 'CARDINAL'), ('Strawberry', 'PERSON'), ('the Soul Reapers', 'LAW'), ('1', 'MONEY')]"
Beyond Good and Evil,Â£43.38,One,Beyond Good and Evil,beyond good evil,-0.3612,Negative,[]
Alice in Wonderland (Alice's Adventures in Wonderland #1),Â£55.53,One,Alice in Wonderland (Alice's Adventures in Wonderland #1),alice wonderland alice adventure wonderland,0.34,Positive,"[('Alice', 'ORG'), ('Wonderland', 'GPE'), (""Alice's Adventures"", 'ORG'), ('Wonderland', 'GPE'), ('1', 'MONEY')]"
"Ajin: Demi-Human, Volume 1 (Ajin: Demi-Human #1)",Â£57.06,Four,"Ajin: Demi-Human, Volume 1 (Ajin: Demi-Human #1)",ajin demihuman volume ajin demihuman,0.0,Neutral,"[('Demi-Human', 'ORG'), ('1', 'CARDINAL'), ('Demi-Human', 'ORG'), ('1', 'MONEY')]"
A Spy's Devotion (The Regency Spies of London #1),Â£16.97,Five,A Spy's Devotion (The Regency Spies of London #1),spys devotion regency spy london,0.4588,Positive,[]
1st to Die (Women's Murder Club #1),Â£53.98,One,1st to Die (Women's Murder Club #1),st die women murder club,-0.8625,Negative,"[('1st', 'ORDINAL'), (""Die (Women's Murder Club"", 'ORG'), ('1', 'MONEY')]"
"1,000 Places to See Before You Die",Â£26.08,Five,"1,000 Places to See Before You Die",place see die,-0.5994,Negative,"[('1,000', 'CARDINAL')]"
