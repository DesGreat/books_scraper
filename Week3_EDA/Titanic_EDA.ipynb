{
 "cells": [
  {
   "cell_type": "code",
   "execution_count": 3,
   "id": "3c72e9dd-a365-4399-a22e-9a84859a3831",
   "metadata": {},
   "outputs": [
    {
     "name": "stdout",
     "output_type": "stream",
     "text": [
      "   PassengerId  Survived  Pclass  \\\n",
      "0            1         0       3   \n",
      "1            2         1       1   \n",
      "2            3         1       3   \n",
      "3            4         1       1   \n",
      "4            5         0       3   \n",
      "\n",
      "                                                Name     Sex   Age  SibSp  \\\n",
      "0                            Braund, Mr. Owen Harris    male  22.0      1   \n",
      "1  Cumings, Mrs. John Bradley (Florence Briggs Th...  female  38.0      1   \n",
      "2                             Heikkinen, Miss. Laina  female  26.0      0   \n",
      "3       Futrelle, Mrs. Jacques Heath (Lily May Peel)  female  35.0      1   \n",
      "4                           Allen, Mr. William Henry    male  35.0      0   \n",
      "\n",
      "   Parch            Ticket     Fare Cabin Embarked  \n",
      "0      0         A/5 21171   7.2500   NaN        S  \n",
      "1      0          PC 17599  71.2833   C85        C  \n",
      "2      0  STON/O2. 3101282   7.9250   NaN        S  \n",
      "3      0            113803  53.1000  C123        S  \n",
      "4      0            373450   8.0500   NaN        S  \n"
     ]
    }
   ],
   "source": [
    "import pandas as pd\n",
    "# Load dataset from Github\n",
    "\n",
    "url = \"https://raw.githubusercontent.com/datasciencedojo/datasets/refs/heads/master/titanic.csv\"\n",
    "df = pd.read_csv(url)\n",
    "\n",
    "# Preview the data\n",
    "print(df.head())"
   ]
  },
  {
   "cell_type": "code",
   "execution_count": 14,
   "id": "1908586c-da8b-4a9f-95c0-9b79b085982b",
   "metadata": {},
   "outputs": [],
   "source": [
    "# Data Manipulation\n",
    "import numpy as np\n",
    "\n",
    "# Visualization \n",
    "import matplotlib.pyplot as plt\n",
    "import seaborn as sns\n",
    "\n",
    "# Configure visual style\n",
    "sns.set(style=\"whitegrid\")\n",
    "%matplotlib inline\n",
    "\n",
    "import warnings\n",
    "warnings.filterwarnings('ignore')\n",
    "\n"
   ]
  },
  {
   "cell_type": "code",
   "execution_count": 41,
   "id": "72b35d49-64d2-4092-b6a0-b02531b5087d",
   "metadata": {},
   "outputs": [
    {
     "name": "stdout",
     "output_type": "stream",
     "text": [
      "<class 'pandas.core.frame.DataFrame'>\n",
      "RangeIndex: 891 entries, 0 to 890\n",
      "Data columns (total 12 columns):\n",
      " #   Column       Non-Null Count  Dtype  \n",
      "---  ------       --------------  -----  \n",
      " 0   PassengerId  891 non-null    int64  \n",
      " 1   Survived     891 non-null    int64  \n",
      " 2   Pclass       891 non-null    int64  \n",
      " 3   Name         891 non-null    object \n",
      " 4   Sex          891 non-null    object \n",
      " 5   Age          714 non-null    float64\n",
      " 6   SibSp        891 non-null    int64  \n",
      " 7   Parch        891 non-null    int64  \n",
      " 8   Ticket       891 non-null    object \n",
      " 9   Fare         891 non-null    float64\n",
      " 10  Cabin        204 non-null    object \n",
      " 11  Embarked     889 non-null    object \n",
      "dtypes: float64(2), int64(5), object(5)\n",
      "memory usage: 83.7+ KB\n"
     ]
    },
    {
     "data": {
      "text/html": [
       "<div>\n",
       "<style scoped>\n",
       "    .dataframe tbody tr th:only-of-type {\n",
       "        vertical-align: middle;\n",
       "    }\n",
       "\n",
       "    .dataframe tbody tr th {\n",
       "        vertical-align: top;\n",
       "    }\n",
       "\n",
       "    .dataframe thead th {\n",
       "        text-align: right;\n",
       "    }\n",
       "</style>\n",
       "<table border=\"1\" class=\"dataframe\">\n",
       "  <thead>\n",
       "    <tr style=\"text-align: right;\">\n",
       "      <th></th>\n",
       "      <th>PassengerId</th>\n",
       "      <th>Survived</th>\n",
       "      <th>Pclass</th>\n",
       "      <th>Age</th>\n",
       "      <th>SibSp</th>\n",
       "      <th>Parch</th>\n",
       "      <th>Fare</th>\n",
       "    </tr>\n",
       "  </thead>\n",
       "  <tbody>\n",
       "    <tr>\n",
       "      <th>count</th>\n",
       "      <td>891.000000</td>\n",
       "      <td>891.000000</td>\n",
       "      <td>891.000000</td>\n",
       "      <td>714.000000</td>\n",
       "      <td>891.000000</td>\n",
       "      <td>891.000000</td>\n",
       "      <td>891.000000</td>\n",
       "    </tr>\n",
       "    <tr>\n",
       "      <th>mean</th>\n",
       "      <td>446.000000</td>\n",
       "      <td>0.383838</td>\n",
       "      <td>2.308642</td>\n",
       "      <td>29.699118</td>\n",
       "      <td>0.523008</td>\n",
       "      <td>0.381594</td>\n",
       "      <td>32.204208</td>\n",
       "    </tr>\n",
       "    <tr>\n",
       "      <th>std</th>\n",
       "      <td>257.353842</td>\n",
       "      <td>0.486592</td>\n",
       "      <td>0.836071</td>\n",
       "      <td>14.526497</td>\n",
       "      <td>1.102743</td>\n",
       "      <td>0.806057</td>\n",
       "      <td>49.693429</td>\n",
       "    </tr>\n",
       "    <tr>\n",
       "      <th>min</th>\n",
       "      <td>1.000000</td>\n",
       "      <td>0.000000</td>\n",
       "      <td>1.000000</td>\n",
       "      <td>0.420000</td>\n",
       "      <td>0.000000</td>\n",
       "      <td>0.000000</td>\n",
       "      <td>0.000000</td>\n",
       "    </tr>\n",
       "    <tr>\n",
       "      <th>25%</th>\n",
       "      <td>223.500000</td>\n",
       "      <td>0.000000</td>\n",
       "      <td>2.000000</td>\n",
       "      <td>20.125000</td>\n",
       "      <td>0.000000</td>\n",
       "      <td>0.000000</td>\n",
       "      <td>7.910400</td>\n",
       "    </tr>\n",
       "    <tr>\n",
       "      <th>50%</th>\n",
       "      <td>446.000000</td>\n",
       "      <td>0.000000</td>\n",
       "      <td>3.000000</td>\n",
       "      <td>28.000000</td>\n",
       "      <td>0.000000</td>\n",
       "      <td>0.000000</td>\n",
       "      <td>14.454200</td>\n",
       "    </tr>\n",
       "    <tr>\n",
       "      <th>75%</th>\n",
       "      <td>668.500000</td>\n",
       "      <td>1.000000</td>\n",
       "      <td>3.000000</td>\n",
       "      <td>38.000000</td>\n",
       "      <td>1.000000</td>\n",
       "      <td>0.000000</td>\n",
       "      <td>31.000000</td>\n",
       "    </tr>\n",
       "    <tr>\n",
       "      <th>max</th>\n",
       "      <td>891.000000</td>\n",
       "      <td>1.000000</td>\n",
       "      <td>3.000000</td>\n",
       "      <td>80.000000</td>\n",
       "      <td>8.000000</td>\n",
       "      <td>6.000000</td>\n",
       "      <td>512.329200</td>\n",
       "    </tr>\n",
       "  </tbody>\n",
       "</table>\n",
       "</div>"
      ],
      "text/plain": [
       "       PassengerId    Survived      Pclass         Age       SibSp  \\\n",
       "count   891.000000  891.000000  891.000000  714.000000  891.000000   \n",
       "mean    446.000000    0.383838    2.308642   29.699118    0.523008   \n",
       "std     257.353842    0.486592    0.836071   14.526497    1.102743   \n",
       "min       1.000000    0.000000    1.000000    0.420000    0.000000   \n",
       "25%     223.500000    0.000000    2.000000   20.125000    0.000000   \n",
       "50%     446.000000    0.000000    3.000000   28.000000    0.000000   \n",
       "75%     668.500000    1.000000    3.000000   38.000000    1.000000   \n",
       "max     891.000000    1.000000    3.000000   80.000000    8.000000   \n",
       "\n",
       "            Parch        Fare  \n",
       "count  891.000000  891.000000  \n",
       "mean     0.381594   32.204208  \n",
       "std      0.806057   49.693429  \n",
       "min      0.000000    0.000000  \n",
       "25%      0.000000    7.910400  \n",
       "50%      0.000000   14.454200  \n",
       "75%      0.000000   31.000000  \n",
       "max      6.000000  512.329200  "
      ]
     },
     "execution_count": 41,
     "metadata": {},
     "output_type": "execute_result"
    }
   ],
   "source": [
    "df.head()   # Preview first few rows\n",
    "df.info()   # Data types and non-null counts\n",
    "df.describe() # Summary stats for numerical columns\n"
   ]
  },
  {
   "cell_type": "code",
   "execution_count": 47,
   "id": "dbb9cd99-7b15-4ee4-9fba-5d8d70338e7f",
   "metadata": {},
   "outputs": [
    {
     "data": {
      "text/plain": [
       "177"
      ]
     },
     "execution_count": 47,
     "metadata": {},
     "output_type": "execute_result"
    }
   ],
   "source": [
    "df['Age'].isnull().sum()"
   ]
  },
  {
   "cell_type": "code",
   "execution_count": 51,
   "id": "90bb0f72-bfa0-4b0c-a5fe-6a4edddf79c8",
   "metadata": {},
   "outputs": [
    {
     "data": {
      "text/plain": [
       "PassengerId      0\n",
       "Survived         0\n",
       "Pclass           0\n",
       "Name             0\n",
       "Sex              0\n",
       "Age            177\n",
       "SibSp            0\n",
       "Parch            0\n",
       "Ticket           0\n",
       "Fare             0\n",
       "Cabin          687\n",
       "Embarked         2\n",
       "dtype: int64"
      ]
     },
     "execution_count": 51,
     "metadata": {},
     "output_type": "execute_result"
    }
   ],
   "source": [
    "# Step 1: Data Cleaning\n",
    "# Check for Missing Values\n",
    "\n",
    "df.isnull().sum()"
   ]
  },
  {
   "cell_type": "code",
   "execution_count": 69,
   "id": "d44de940-eda2-4ce2-b355-9d40bad9071e",
   "metadata": {},
   "outputs": [
    {
     "data": {
      "text/plain": [
       "0"
      ]
     },
     "execution_count": 69,
     "metadata": {},
     "output_type": "execute_result"
    }
   ],
   "source": [
    "# Handle Missing Data \n",
    "# Age(177 missing): fill with median\n",
    "\n",
    "df['Age'].fillna(df['Age'].median(), inplace=True)\n",
    "\n",
    "df.isnull().sum()\n",
    "df['Age'].isnull().sum()"
   ]
  },
  {
   "cell_type": "code",
   "execution_count": 79,
   "id": "1c4a8b26-1ecd-4b3c-ada2-852bfcca5474",
   "metadata": {},
   "outputs": [
    {
     "data": {
      "text/plain": [
       "PassengerId    0\n",
       "Survived       0\n",
       "Pclass         0\n",
       "Name           0\n",
       "Sex            0\n",
       "Age            0\n",
       "SibSp          0\n",
       "Parch          0\n",
       "Ticket         0\n",
       "Fare           0\n",
       "Embarked       2\n",
       "dtype: int64"
      ]
     },
     "execution_count": 79,
     "metadata": {},
     "output_type": "execute_result"
    }
   ],
   "source": [
    "df.isnull().sum()"
   ]
  },
  {
   "cell_type": "code",
   "execution_count": 77,
   "id": "d2734928-2844-47f5-b40e-b9f5cc651a68",
   "metadata": {},
   "outputs": [
    {
     "data": {
      "text/plain": [
       "Index(['PassengerId', 'Survived', 'Pclass', 'Name', 'Sex', 'Age', 'SibSp',\n",
       "       'Parch', 'Ticket', 'Fare', 'Embarked'],\n",
       "      dtype='object')"
      ]
     },
     "execution_count": 77,
     "metadata": {},
     "output_type": "execute_result"
    }
   ],
   "source": [
    "df.columns"
   ]
  },
  {
   "cell_type": "code",
   "execution_count": 83,
   "id": "65d6537b-87f8-45c0-b3b8-964b9e86ff22",
   "metadata": {},
   "outputs": [],
   "source": [
    "# Fill Embarked with mode\n",
    "\n",
    "df['Embarked'].fillna(df['Embarked'].mode() [0], inplace=True)\n"
   ]
  },
  {
   "cell_type": "code",
   "execution_count": 85,
   "id": "7ed8af0b-8fcf-42af-a51d-772164e8759f",
   "metadata": {},
   "outputs": [
    {
     "data": {
      "text/plain": [
       "PassengerId    0\n",
       "Survived       0\n",
       "Pclass         0\n",
       "Name           0\n",
       "Sex            0\n",
       "Age            0\n",
       "SibSp          0\n",
       "Parch          0\n",
       "Ticket         0\n",
       "Fare           0\n",
       "Embarked       0\n",
       "dtype: int64"
      ]
     },
     "execution_count": 85,
     "metadata": {},
     "output_type": "execute_result"
    }
   ],
   "source": [
    "df.isnull().sum()"
   ]
  },
  {
   "cell_type": "code",
   "execution_count": 100,
   "id": "1cf7b1c1-f77a-4a5f-af61-394b29e69f4a",
   "metadata": {},
   "outputs": [
    {
     "data": {
      "text/plain": [
       "Embarked\n",
       "S    646\n",
       "C    168\n",
       "Q     77\n",
       "Name: count, dtype: int64"
      ]
     },
     "execution_count": 100,
     "metadata": {},
     "output_type": "execute_result"
    }
   ],
   "source": [
    "df['Embarked'].value_counts(ascending=True)\n",
    "df['Embarked'].value_counts()"
   ]
  },
  {
   "cell_type": "code",
   "execution_count": 114,
   "id": "d65f6934-1109-4cf8-8374-ed2d5eb230c2",
   "metadata": {},
   "outputs": [
    {
     "name": "stdout",
     "output_type": "stream",
     "text": [
      "<class 'pandas.core.series.Series'>\n",
      "True\n"
     ]
    }
   ],
   "source": [
    "print(type(df['Embarked'].value_counts()))\n",
    "print(hasattr(df['Embarked'].value_counts(), 'reset_index'))"
   ]
  },
  {
   "cell_type": "code",
   "execution_count": 116,
   "id": "6e009395-663d-4b64-94c5-6ae08a76a5ba",
   "metadata": {},
   "outputs": [],
   "source": [
    "Series = \"some string\""
   ]
  },
  {
   "cell_type": "code",
   "execution_count": 118,
   "id": "53fbd767-2cad-4cf7-b9df-8498d83ee529",
   "metadata": {},
   "outputs": [
    {
     "name": "stdout",
     "output_type": "stream",
     "text": [
      "Variable               Type         Data/Info\n",
      "---------------------------------------------\n",
      "Series                 str          some string\n",
      "dataframe_columns      function     <function dataframe_colum<...>ns at 0x00000240037FB920>\n",
      "dataframe_hash         function     <function dataframe_hash at 0x00000240037F9800>\n",
      "df                     DataFrame         PassengerId  Survive<...>\\n[891 rows x 11 columns]\n",
      "dtypes_str             function     <function dtypes_str at 0x00000240037FB600>\n",
      "get_dataframes         function     <function get_dataframes at 0x00000240037F9120>\n",
      "getpass                module       <module 'getpass' from 'C<...>conda3\\\\Lib\\\\getpass.py'>\n",
      "hashlib                module       <module 'hashlib' from 'C<...>conda3\\\\Lib\\\\hashlib.py'>\n",
      "import_pandas_safely   function     <function import_pandas_s<...>ly at 0x000002407CF86020>\n",
      "is_data_frame          function     <function is_data_frame at 0x00000240037FA2A0>\n",
      "json                   module       <module 'json' from 'C:\\\\<...>\\Lib\\\\json\\\\__init__.py'>\n",
      "np                     module       <module 'numpy' from 'C:\\<...>ges\\\\numpy\\\\__init__.py'>\n",
      "pd                     module       <module 'pandas' from 'C:<...>es\\\\pandas\\\\__init__.py'>\n",
      "plt                    module       <module 'matplotlib.pyplo<...>\\\\matplotlib\\\\pyplot.py'>\n",
      "sns                    module       <module 'seaborn' from 'C<...>s\\\\seaborn\\\\__init__.py'>\n",
      "url                    str          https://raw.githubusercon<...>/heads/master/titanic.csv\n",
      "warnings               module       <module 'warnings' from '<...>onda3\\\\Lib\\\\warnings.py'>\n"
     ]
    }
   ],
   "source": [
    "whos"
   ]
  },
  {
   "cell_type": "code",
   "execution_count": 120,
   "id": "06455f3c-bb92-4dcb-99dc-2c87265b9601",
   "metadata": {},
   "outputs": [
    {
     "name": "stdout",
     "output_type": "stream",
     "text": [
      "2.2.2\n"
     ]
    }
   ],
   "source": [
    "print(pd.__version__)"
   ]
  },
  {
   "cell_type": "code",
   "execution_count": 122,
   "id": "537034e7-a514-4b2b-8244-c7758756302d",
   "metadata": {},
   "outputs": [
    {
     "name": "stdout",
     "output_type": "stream",
     "text": [
      "Requirement already satisfied: pandas in c:\\users\\hp\\anaconda3\\lib\\site-packages (2.2.2)\n",
      "Collecting pandas\n",
      "  Downloading pandas-2.3.1-cp312-cp312-win_amd64.whl.metadata (19 kB)\n",
      "Requirement already satisfied: numpy>=1.26.0 in c:\\users\\hp\\anaconda3\\lib\\site-packages (from pandas) (1.26.4)\n",
      "Requirement already satisfied: python-dateutil>=2.8.2 in c:\\users\\hp\\anaconda3\\lib\\site-packages (from pandas) (2.9.0.post0)\n",
      "Requirement already satisfied: pytz>=2020.1 in c:\\users\\hp\\anaconda3\\lib\\site-packages (from pandas) (2024.1)\n",
      "Requirement already satisfied: tzdata>=2022.7 in c:\\users\\hp\\anaconda3\\lib\\site-packages (from pandas) (2023.3)\n",
      "Requirement already satisfied: six>=1.5 in c:\\users\\hp\\anaconda3\\lib\\site-packages (from python-dateutil>=2.8.2->pandas) (1.16.0)\n",
      "Downloading pandas-2.3.1-cp312-cp312-win_amd64.whl (11.0 MB)\n",
      "   ---------------------------------------- 0.0/11.0 MB ? eta -:--:--\n",
      "   ---------------------------------------- 0.0/11.0 MB ? eta -:--:--\n",
      "   ---------------------------------------- 0.0/11.0 MB ? eta -:--:--\n",
      "   ---------------------------------------- 0.0/11.0 MB ? eta -:--:--\n",
      "   ---------------------------------------- 0.0/11.0 MB ? eta -:--:--\n",
      "   ---------------------------------------- 0.0/11.0 MB ? eta -:--:--\n",
      "   ---------------------------------------- 0.0/11.0 MB ? eta -:--:--\n",
      "   ---------------------------------------- 0.0/11.0 MB ? eta -:--:--\n",
      "   ---------------------------------------- 0.0/11.0 MB ? eta -:--:--\n",
      "    --------------------------------------- 0.3/11.0 MB ? eta -:--:--\n",
      "    --------------------------------------- 0.3/11.0 MB ? eta -:--:--\n",
      "    --------------------------------------- 0.3/11.0 MB ? eta -:--:--\n",
      "    --------------------------------------- 0.3/11.0 MB ? eta -:--:--\n",
      "   - -------------------------------------- 0.5/11.0 MB 305.2 kB/s eta 0:00:35\n",
      "   - -------------------------------------- 0.5/11.0 MB 305.2 kB/s eta 0:00:35\n",
      "   - -------------------------------------- 0.5/11.0 MB 305.2 kB/s eta 0:00:35\n",
      "   - -------------------------------------- 0.5/11.0 MB 305.2 kB/s eta 0:00:35\n",
      "   -- ------------------------------------- 0.8/11.0 MB 310.8 kB/s eta 0:00:33\n",
      "   -- ------------------------------------- 0.8/11.0 MB 310.8 kB/s eta 0:00:33\n",
      "   -- ------------------------------------- 0.8/11.0 MB 310.8 kB/s eta 0:00:33\n",
      "   -- ------------------------------------- 0.8/11.0 MB 310.8 kB/s eta 0:00:33\n",
      "   --- ------------------------------------ 1.0/11.0 MB 312.6 kB/s eta 0:00:32\n",
      "   --- ------------------------------------ 1.0/11.0 MB 312.6 kB/s eta 0:00:32\n",
      "   --- ------------------------------------ 1.0/11.0 MB 312.6 kB/s eta 0:00:32\n",
      "   --- ------------------------------------ 1.0/11.0 MB 312.6 kB/s eta 0:00:32\n",
      "   --- ------------------------------------ 1.0/11.0 MB 312.6 kB/s eta 0:00:32\n",
      "   --- ------------------------------------ 1.0/11.0 MB 312.6 kB/s eta 0:00:32\n",
      "   --- ------------------------------------ 1.0/11.0 MB 312.6 kB/s eta 0:00:32\n",
      "   ---- ----------------------------------- 1.3/11.0 MB 252.3 kB/s eta 0:00:39\n",
      "   ---- ----------------------------------- 1.3/11.0 MB 252.3 kB/s eta 0:00:39\n",
      "   ---- ----------------------------------- 1.3/11.0 MB 252.3 kB/s eta 0:00:39\n",
      "   ---- ----------------------------------- 1.3/11.0 MB 252.3 kB/s eta 0:00:39\n",
      "   ---- ----------------------------------- 1.3/11.0 MB 252.3 kB/s eta 0:00:39\n",
      "   ---- ----------------------------------- 1.3/11.0 MB 252.3 kB/s eta 0:00:39\n",
      "   ---- ----------------------------------- 1.3/11.0 MB 252.3 kB/s eta 0:00:39\n",
      "   ----- ---------------------------------- 1.6/11.0 MB 234.3 kB/s eta 0:00:41\n",
      "   ----- ---------------------------------- 1.6/11.0 MB 234.3 kB/s eta 0:00:41\n",
      "   ----- ---------------------------------- 1.6/11.0 MB 234.3 kB/s eta 0:00:41\n",
      "   ----- ---------------------------------- 1.6/11.0 MB 234.3 kB/s eta 0:00:41\n",
      "   ----- ---------------------------------- 1.6/11.0 MB 234.3 kB/s eta 0:00:41\n",
      "   ----- ---------------------------------- 1.6/11.0 MB 234.3 kB/s eta 0:00:41\n",
      "   ------ --------------------------------- 1.8/11.0 MB 227.8 kB/s eta 0:00:41\n",
      "   ------ --------------------------------- 1.8/11.0 MB 227.8 kB/s eta 0:00:41\n",
      "   ------ --------------------------------- 1.8/11.0 MB 227.8 kB/s eta 0:00:41\n",
      "   ------ --------------------------------- 1.8/11.0 MB 227.8 kB/s eta 0:00:41\n",
      "   ------ --------------------------------- 1.8/11.0 MB 227.8 kB/s eta 0:00:41\n",
      "   ------- -------------------------------- 2.1/11.0 MB 228.5 kB/s eta 0:00:39\n",
      "   ------- -------------------------------- 2.1/11.0 MB 228.5 kB/s eta 0:00:39\n",
      "   ------- -------------------------------- 2.1/11.0 MB 228.5 kB/s eta 0:00:39\n",
      "   ------- -------------------------------- 2.1/11.0 MB 228.5 kB/s eta 0:00:39\n",
      "   ------- -------------------------------- 2.1/11.0 MB 228.5 kB/s eta 0:00:39\n",
      "   ------- -------------------------------- 2.1/11.0 MB 228.5 kB/s eta 0:00:39\n",
      "   -------- ------------------------------- 2.4/11.0 MB 223.3 kB/s eta 0:00:39\n",
      "   -------- ------------------------------- 2.4/11.0 MB 223.3 kB/s eta 0:00:39\n",
      "   -------- ------------------------------- 2.4/11.0 MB 223.3 kB/s eta 0:00:39\n",
      "   -------- ------------------------------- 2.4/11.0 MB 223.3 kB/s eta 0:00:39\n",
      "   --------- ------------------------------ 2.6/11.0 MB 232.3 kB/s eta 0:00:37\n",
      "   --------- ------------------------------ 2.6/11.0 MB 232.3 kB/s eta 0:00:37\n",
      "   --------- ------------------------------ 2.6/11.0 MB 232.3 kB/s eta 0:00:37\n",
      "   --------- ------------------------------ 2.6/11.0 MB 232.3 kB/s eta 0:00:37\n",
      "   --------- ------------------------------ 2.6/11.0 MB 232.3 kB/s eta 0:00:37\n",
      "   --------- ------------------------------ 2.6/11.0 MB 232.3 kB/s eta 0:00:37\n",
      "   --------- ------------------------------ 2.6/11.0 MB 232.3 kB/s eta 0:00:37\n",
      "   ---------- ----------------------------- 2.9/11.0 MB 225.8 kB/s eta 0:00:36\n",
      "   ---------- ----------------------------- 2.9/11.0 MB 225.8 kB/s eta 0:00:36\n",
      "   ---------- ----------------------------- 2.9/11.0 MB 225.8 kB/s eta 0:00:36\n",
      "   ---------- ----------------------------- 2.9/11.0 MB 225.8 kB/s eta 0:00:36\n",
      "   ----------- ---------------------------- 3.1/11.0 MB 229.3 kB/s eta 0:00:35\n",
      "   ----------- ---------------------------- 3.1/11.0 MB 229.3 kB/s eta 0:00:35\n",
      "   ----------- ---------------------------- 3.1/11.0 MB 229.3 kB/s eta 0:00:35\n",
      "   ----------- ---------------------------- 3.1/11.0 MB 229.3 kB/s eta 0:00:35\n",
      "   ----------- ---------------------------- 3.1/11.0 MB 229.3 kB/s eta 0:00:35\n",
      "   ------------ --------------------------- 3.4/11.0 MB 229.8 kB/s eta 0:00:33\n",
      "   ------------ --------------------------- 3.4/11.0 MB 229.8 kB/s eta 0:00:33\n",
      "   ------------ --------------------------- 3.4/11.0 MB 229.8 kB/s eta 0:00:33\n",
      "   ------------ --------------------------- 3.4/11.0 MB 229.8 kB/s eta 0:00:33\n",
      "   ------------ --------------------------- 3.4/11.0 MB 229.8 kB/s eta 0:00:33\n",
      "   ------------- -------------------------- 3.7/11.0 MB 231.0 kB/s eta 0:00:32\n",
      "   ------------- -------------------------- 3.7/11.0 MB 231.0 kB/s eta 0:00:32\n",
      "   ------------- -------------------------- 3.7/11.0 MB 231.0 kB/s eta 0:00:32\n",
      "   ------------- -------------------------- 3.7/11.0 MB 231.0 kB/s eta 0:00:32\n",
      "   ------------- -------------------------- 3.7/11.0 MB 231.0 kB/s eta 0:00:32\n",
      "   -------------- ------------------------- 3.9/11.0 MB 230.3 kB/s eta 0:00:31\n",
      "   -------------- ------------------------- 3.9/11.0 MB 230.3 kB/s eta 0:00:31\n",
      "   -------------- ------------------------- 3.9/11.0 MB 230.3 kB/s eta 0:00:31\n",
      "   -------------- ------------------------- 3.9/11.0 MB 230.3 kB/s eta 0:00:31\n",
      "   -------------- ------------------------- 3.9/11.0 MB 230.3 kB/s eta 0:00:31\n",
      "   -------------- ------------------------- 3.9/11.0 MB 230.3 kB/s eta 0:00:31\n",
      "   -------------- ------------------------- 3.9/11.0 MB 230.3 kB/s eta 0:00:31\n",
      "   -------------- ------------------------- 3.9/11.0 MB 230.3 kB/s eta 0:00:31\n",
      "   -------------- ------------------------- 3.9/11.0 MB 230.3 kB/s eta 0:00:31\n",
      "   -------------- ------------------------- 3.9/11.0 MB 230.3 kB/s eta 0:00:31\n",
      "   -------------- ------------------------- 3.9/11.0 MB 230.3 kB/s eta 0:00:31\n",
      "   --------------- ------------------------ 4.2/11.0 MB 215.8 kB/s eta 0:00:32\n",
      "   --------------- ------------------------ 4.2/11.0 MB 215.8 kB/s eta 0:00:32\n",
      "   --------------- ------------------------ 4.2/11.0 MB 215.8 kB/s eta 0:00:32\n",
      "   --------------- ------------------------ 4.2/11.0 MB 215.8 kB/s eta 0:00:32\n",
      "   --------------- ------------------------ 4.2/11.0 MB 215.8 kB/s eta 0:00:32\n",
      "   --------------- ------------------------ 4.2/11.0 MB 215.8 kB/s eta 0:00:32\n",
      "   ---------------- ----------------------- 4.5/11.0 MB 214.4 kB/s eta 0:00:31\n",
      "   ---------------- ----------------------- 4.5/11.0 MB 214.4 kB/s eta 0:00:31\n",
      "   ---------------- ----------------------- 4.5/11.0 MB 214.4 kB/s eta 0:00:31\n",
      "   ---------------- ----------------------- 4.5/11.0 MB 214.4 kB/s eta 0:00:31\n",
      "   ---------------- ----------------------- 4.5/11.0 MB 214.4 kB/s eta 0:00:31\n",
      "   ---------------- ----------------------- 4.5/11.0 MB 214.4 kB/s eta 0:00:31\n",
      "   ---------------- ----------------------- 4.5/11.0 MB 214.4 kB/s eta 0:00:31\n",
      "   ---------------- ----------------------- 4.5/11.0 MB 214.4 kB/s eta 0:00:31\n",
      "   ---------------- ----------------------- 4.5/11.0 MB 214.4 kB/s eta 0:00:31\n",
      "   ----------------- ---------------------- 4.7/11.0 MB 207.7 kB/s eta 0:00:31\n",
      "   ----------------- ---------------------- 4.7/11.0 MB 207.7 kB/s eta 0:00:31\n",
      "   ----------------- ---------------------- 4.7/11.0 MB 207.7 kB/s eta 0:00:31\n",
      "   ----------------- ---------------------- 4.7/11.0 MB 207.7 kB/s eta 0:00:31\n",
      "   ----------------- ---------------------- 4.7/11.0 MB 207.7 kB/s eta 0:00:31\n",
      "   ----------------- ---------------------- 4.7/11.0 MB 207.7 kB/s eta 0:00:31\n",
      "   ----------------- ---------------------- 4.7/11.0 MB 207.7 kB/s eta 0:00:31\n",
      "   ------------------ --------------------- 5.0/11.0 MB 205.3 kB/s eta 0:00:30\n",
      "   ------------------ --------------------- 5.0/11.0 MB 205.3 kB/s eta 0:00:30\n",
      "   ------------------ --------------------- 5.0/11.0 MB 205.3 kB/s eta 0:00:30\n",
      "   ------------------ --------------------- 5.0/11.0 MB 205.3 kB/s eta 0:00:30\n",
      "   ------------------ --------------------- 5.0/11.0 MB 205.3 kB/s eta 0:00:30\n",
      "   ------------------- -------------------- 5.2/11.0 MB 206.6 kB/s eta 0:00:28\n",
      "   ------------------- -------------------- 5.2/11.0 MB 206.6 kB/s eta 0:00:28\n",
      "   ------------------- -------------------- 5.2/11.0 MB 206.6 kB/s eta 0:00:28\n",
      "   ------------------- -------------------- 5.2/11.0 MB 206.6 kB/s eta 0:00:28\n",
      "   ------------------- -------------------- 5.2/11.0 MB 206.6 kB/s eta 0:00:28\n",
      "   -------------------- ------------------- 5.5/11.0 MB 208.5 kB/s eta 0:00:27\n",
      "   -------------------- ------------------- 5.5/11.0 MB 208.5 kB/s eta 0:00:27\n",
      "   -------------------- ------------------- 5.5/11.0 MB 208.5 kB/s eta 0:00:27\n",
      "   -------------------- ------------------- 5.5/11.0 MB 208.5 kB/s eta 0:00:27\n",
      "   -------------------- ------------------- 5.5/11.0 MB 208.5 kB/s eta 0:00:27\n",
      "   -------------------- ------------------- 5.8/11.0 MB 210.0 kB/s eta 0:00:25\n",
      "   -------------------- ------------------- 5.8/11.0 MB 210.0 kB/s eta 0:00:25\n",
      "   -------------------- ------------------- 5.8/11.0 MB 210.0 kB/s eta 0:00:25\n",
      "   -------------------- ------------------- 5.8/11.0 MB 210.0 kB/s eta 0:00:25\n",
      "   --------------------- ------------------ 6.0/11.0 MB 213.0 kB/s eta 0:00:24\n",
      "   --------------------- ------------------ 6.0/11.0 MB 213.0 kB/s eta 0:00:24\n",
      "   --------------------- ------------------ 6.0/11.0 MB 213.0 kB/s eta 0:00:24\n",
      "   ---------------------- ----------------- 6.3/11.0 MB 217.3 kB/s eta 0:00:22\n",
      "   ---------------------- ----------------- 6.3/11.0 MB 217.3 kB/s eta 0:00:22\n",
      "   ---------------------- ----------------- 6.3/11.0 MB 217.3 kB/s eta 0:00:22\n",
      "   ----------------------- ---------------- 6.6/11.0 MB 221.6 kB/s eta 0:00:21\n",
      "   ----------------------- ---------------- 6.6/11.0 MB 221.6 kB/s eta 0:00:21\n",
      "   ------------------------ --------------- 6.8/11.0 MB 227.3 kB/s eta 0:00:19\n",
      "   ------------------------- -------------- 7.1/11.0 MB 233.3 kB/s eta 0:00:17\n",
      "   ------------------------- -------------- 7.1/11.0 MB 233.3 kB/s eta 0:00:17\n",
      "   -------------------------- ------------- 7.3/11.0 MB 239.3 kB/s eta 0:00:16\n",
      "   -------------------------- ------------- 7.3/11.0 MB 239.3 kB/s eta 0:00:16\n",
      "   -------------------------- ------------- 7.3/11.0 MB 239.3 kB/s eta 0:00:16\n",
      "   -------------------------- ------------- 7.3/11.0 MB 239.3 kB/s eta 0:00:16\n",
      "   -------------------------- ------------- 7.3/11.0 MB 239.3 kB/s eta 0:00:16\n",
      "   -------------------------- ------------- 7.3/11.0 MB 239.3 kB/s eta 0:00:16\n",
      "   -------------------------- ------------- 7.3/11.0 MB 239.3 kB/s eta 0:00:16\n",
      "   -------------------------- ------------- 7.3/11.0 MB 239.3 kB/s eta 0:00:16\n",
      "   --------------------------- ------------ 7.6/11.0 MB 229.8 kB/s eta 0:00:15\n",
      "   --------------------------- ------------ 7.6/11.0 MB 229.8 kB/s eta 0:00:15\n",
      "   --------------------------- ------------ 7.6/11.0 MB 229.8 kB/s eta 0:00:15\n",
      "   ---------------------------- ----------- 7.9/11.0 MB 231.7 kB/s eta 0:00:14\n",
      "   ---------------------------- ----------- 7.9/11.0 MB 231.7 kB/s eta 0:00:14\n",
      "   ---------------------------- ----------- 7.9/11.0 MB 231.7 kB/s eta 0:00:14\n",
      "   ---------------------------- ----------- 7.9/11.0 MB 231.7 kB/s eta 0:00:14\n",
      "   ----------------------------- ---------- 8.1/11.0 MB 238.6 kB/s eta 0:00:12\n",
      "   ----------------------------- ---------- 8.1/11.0 MB 238.6 kB/s eta 0:00:12\n",
      "   ----------------------------- ---------- 8.1/11.0 MB 238.6 kB/s eta 0:00:12\n",
      "   ------------------------------ --------- 8.4/11.0 MB 241.6 kB/s eta 0:00:11\n",
      "   ------------------------------ --------- 8.4/11.0 MB 241.6 kB/s eta 0:00:11\n",
      "   ------------------------------ --------- 8.4/11.0 MB 241.6 kB/s eta 0:00:11\n",
      "   ------------------------------- -------- 8.7/11.0 MB 247.5 kB/s eta 0:00:10\n",
      "   ------------------------------- -------- 8.7/11.0 MB 247.5 kB/s eta 0:00:10\n",
      "   ------------------------------- -------- 8.7/11.0 MB 247.5 kB/s eta 0:00:10\n",
      "   ------------------------------- -------- 8.7/11.0 MB 247.5 kB/s eta 0:00:10\n",
      "   -------------------------------- ------- 8.9/11.0 MB 250.1 kB/s eta 0:00:09\n",
      "   -------------------------------- ------- 8.9/11.0 MB 250.1 kB/s eta 0:00:09\n",
      "   -------------------------------- ------- 8.9/11.0 MB 250.1 kB/s eta 0:00:09\n",
      "   -------------------------------- ------- 8.9/11.0 MB 250.1 kB/s eta 0:00:09\n",
      "   -------------------------------- ------- 8.9/11.0 MB 250.1 kB/s eta 0:00:09\n",
      "   --------------------------------- ------ 9.2/11.0 MB 252.3 kB/s eta 0:00:08\n",
      "   --------------------------------- ------ 9.2/11.0 MB 252.3 kB/s eta 0:00:08\n",
      "   --------------------------------- ------ 9.2/11.0 MB 252.3 kB/s eta 0:00:08\n",
      "   --------------------------------- ------ 9.2/11.0 MB 252.3 kB/s eta 0:00:08\n",
      "   ---------------------------------- ----- 9.4/11.0 MB 253.1 kB/s eta 0:00:07\n",
      "   ---------------------------------- ----- 9.4/11.0 MB 253.1 kB/s eta 0:00:07\n",
      "   ---------------------------------- ----- 9.4/11.0 MB 253.1 kB/s eta 0:00:07\n",
      "   ---------------------------------- ----- 9.4/11.0 MB 253.1 kB/s eta 0:00:07\n",
      "   ---------------------------------- ----- 9.4/11.0 MB 253.1 kB/s eta 0:00:07\n",
      "   ----------------------------------- ---- 9.7/11.0 MB 253.7 kB/s eta 0:00:06\n",
      "   ----------------------------------- ---- 9.7/11.0 MB 253.7 kB/s eta 0:00:06\n",
      "   ----------------------------------- ---- 9.7/11.0 MB 253.7 kB/s eta 0:00:06\n",
      "   ----------------------------------- ---- 9.7/11.0 MB 253.7 kB/s eta 0:00:06\n",
      "   ----------------------------------- ---- 9.7/11.0 MB 253.7 kB/s eta 0:00:06\n",
      "   ------------------------------------ --- 10.0/11.0 MB 256.1 kB/s eta 0:00:05\n",
      "   ------------------------------------ --- 10.0/11.0 MB 256.1 kB/s eta 0:00:05\n",
      "   ------------------------------------ --- 10.0/11.0 MB 256.1 kB/s eta 0:00:05\n",
      "   ------------------------------------ --- 10.0/11.0 MB 256.1 kB/s eta 0:00:05\n",
      "   ------------------------------------ --- 10.0/11.0 MB 256.1 kB/s eta 0:00:05\n",
      "   ------------------------------------- -- 10.2/11.0 MB 257.0 kB/s eta 0:00:03\n",
      "   ------------------------------------- -- 10.2/11.0 MB 257.0 kB/s eta 0:00:03\n",
      "   ------------------------------------- -- 10.2/11.0 MB 257.0 kB/s eta 0:00:03\n",
      "   -------------------------------------- - 10.5/11.0 MB 259.6 kB/s eta 0:00:02\n",
      "   -------------------------------------- - 10.5/11.0 MB 259.6 kB/s eta 0:00:02\n",
      "   -------------------------------------- - 10.5/11.0 MB 259.6 kB/s eta 0:00:02\n",
      "   -------------------------------------- - 10.5/11.0 MB 259.6 kB/s eta 0:00:02\n",
      "   -------------------------------------- - 10.5/11.0 MB 259.6 kB/s eta 0:00:02\n",
      "   ---------------------------------------  10.7/11.0 MB 258.5 kB/s eta 0:00:01\n",
      "   ---------------------------------------  10.7/11.0 MB 258.5 kB/s eta 0:00:01\n",
      "   ---------------------------------------  10.7/11.0 MB 258.5 kB/s eta 0:00:01\n",
      "   ---------------------------------------  10.7/11.0 MB 258.5 kB/s eta 0:00:01\n",
      "   ---------------------------------------  10.7/11.0 MB 258.5 kB/s eta 0:00:01\n",
      "   ---------------------------------------- 11.0/11.0 MB 258.3 kB/s eta 0:00:00\n",
      "Installing collected packages: pandas\n",
      "  Attempting uninstall: pandas\n",
      "    Found existing installation: pandas 2.2.2\n",
      "    Uninstalling pandas-2.2.2:\n",
      "      Successfully uninstalled pandas-2.2.2\n",
      "Successfully installed pandas-2.3.1\n",
      "Note: you may need to restart the kernel to use updated packages.\n"
     ]
    },
    {
     "name": "stderr",
     "output_type": "stream",
     "text": [
      "  WARNING: Failed to remove contents in a temporary directory 'C:\\Users\\HP\\anaconda3\\Lib\\site-packages\\~andas'.\n",
      "  You can safely remove it manually.\n"
     ]
    }
   ],
   "source": [
    "pip install --upgrade pandas"
   ]
  },
  {
   "cell_type": "code",
   "execution_count": 128,
   "id": "74af8263-0294-45c6-a047-3a937196e99d",
   "metadata": {},
   "outputs": [],
   "source": [
    "df.columns = df.columns.str.strip().str.lower()"
   ]
  },
  {
   "cell_type": "code",
   "execution_count": 15,
   "id": "1d8c0522-2127-4a2e-8ec3-65d2c4599d53",
   "metadata": {},
   "outputs": [],
   "source": [
    "url = \"https://raw.githubusercontent.com/datasciencedojo/datasets/refs/heads/master/titanic.csv\"\n",
    "df = pd.read_csv(url)\n"
   ]
  },
  {
   "cell_type": "code",
   "execution_count": 43,
   "id": "8d3c77a9-8954-4138-9490-fcdaf80dd35a",
   "metadata": {},
   "outputs": [],
   "source": [
    "# Data Visualizations\n",
    "import seaborn as sns\n",
    "import matplotlib.pyplot as plt\n",
    "sns.set(style=\"whitegrid\") # sets a clean style\n"
   ]
  },
  {
   "cell_type": "code",
   "execution_count": 49,
   "id": "4c5f9c02-3b39-429d-a28e-03e0343a7351",
   "metadata": {},
   "outputs": [
    {
     "data": {
      "image/png": "[encoded data removed]",
      "text/plain": [
       "<Figure size 640x480 with 1 Axes>"
      ]
     },
     "metadata": {},
     "output_type": "display_data"
    }
   ],
   "source": [
    "# Embarked Port Distribution\n",
    "sns.countplot(x='Embarked', data=df)\n",
    "plt.title('Passenger Count by Embarkation Port')\n",
    "plt.show()"
   ]
  },
  {
   "cell_type": "code",
   "execution_count": 47,
   "id": "33e675a5-c884-4d3f-a6d4-092daba803ce",
   "metadata": {},
   "outputs": [
    {
     "data": {
      "image/png": "[encoded data removed]",
      "text/plain": [
       "<Figure size 640x480 with 1 Axes>"
      ]
     },
     "metadata": {},
     "output_type": "display_data"
    }
   ],
   "source": [
    "# Survival Rate by Gender\n",
    "\n",
    "sns.countplot(x='Sex', hue='Survived', data=df)\n",
    "plt.title('Survival by Gender')\n",
    "plt.show()"
   ]
  },
  {
   "cell_type": "code",
   "execution_count": 45,
   "id": "45e01299-e0b2-4202-910a-ecfd46d577ef",
   "metadata": {},
   "outputs": [
    {
     "data": {
      "image/png": "[encoded data removed]",
      "text/plain": [
       "<Figure size 640x480 with 1 Axes>"
      ]
     },
     "metadata": {},
     "output_type": "display_data"
    }
   ],
   "source": [
    "# Survival Rate by Passenger Class\n",
    "sns.countplot(x='Pclass', hue='Survived', data=df)\n",
    "plt.title('Survival by Passenger Class')\n",
    "plt.show()"
   ]
  },
  {
   "cell_type": "code",
   "execution_count": 39,
   "id": "427783c4-9853-49c6-bd16-8648ad036069",
   "metadata": {},
   "outputs": [
    {
     "data": {
      "image/png": "[encoded data removed]",
      "text/plain": [
       "<Figure size 640x480 with 1 Axes>"
      ]
     },
     "metadata": {},
     "output_type": "display_data"
    }
   ],
   "source": [
    "# Age Distribution\n",
    "sns.histplot(df['Age'].dropna(), bins=30, kde=True)\n",
    "plt.title('Age Distribution of Passengers')\n",
    "plt.show()"
   ]
  },
  {
   "cell_type": "code",
   "execution_count": 41,
   "id": "28b640c6-1a92-4bc0-87ba-dea8cc2b358b",
   "metadata": {},
   "outputs": [
    {
     "data": {
      "image/png": "[encoded data removed]",
      "text/plain": [
       "<Figure size 640x480 with 1 Axes>"
      ]
     },
     "metadata": {},
     "output_type": "display_data"
    }
   ],
   "source": [
    "# Fare vs. Survival\n",
    "sns.boxplot(x='Survived', y='Fare', data=df)\n",
    "plt.title('Fare Paid vs. Survival')\n",
    "plt.show()"
   ]
  },
  {
   "cell_type": "code",
   "execution_count": null,
   "id": "620e2524-f79f-4be7-b65f-4271d3ed3051",
   "metadata": {},
   "outputs": [],
   "source": []
  }
 ],
 "metadata": {
  "kernelspec": {
   "display_name": "Python 3 (ipykernel)",
   "language": "python",
   "name": "python3"
  },
  "language_info": {
   "codemirror_mode": {
    "name": "ipython",
    "version": 3
   },
   "file_extension": ".py",
   "mimetype": "text/x-python",
   "name": "python",
   "nbconvert_exporter": "python",
   "pygments_lexer": "ipython3",
   "version": "3.12.7"
  }
 },
 "nbformat": 4,
 "nbformat_minor": 5
}
